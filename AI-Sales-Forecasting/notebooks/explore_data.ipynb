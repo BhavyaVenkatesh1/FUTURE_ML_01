{
 "cells": [
  {
   "cell_type": "code",
   "execution_count": null,
   "id": "435e6e09",
   "metadata": {
    "vscode": {
     "languageId": "plaintext"
    }
   },
   "outputs": [],
   "source": [
    "import pandas as pd\n",
    "import matplotlib.pyplot as plt\n",
    "import seaborn as sns\n",
    "\n",
    "# Load the dataset\n",
    "df = pd.read_csv('../data/train.csv')\n",
    "\n",
    "# Parse 'Order Date' column to datetime\n",
    "df['Order Date'] = pd.to_datetime(df['Order Date'], dayfirst=False)\n",
    "\n",
    "# Rename columns for consistency\n",
    "df.rename(columns={'Order Date': 'Date', 'Sales': 'Sales'}, inplace=True)\n",
    "\n",
    "# Sort by date\n",
    "df = df.sort_values('Date')\n",
    "\n",
    "# Display first rows and column info\n",
    "print(df.head())\n",
    "print(df.columns)\n",
    "\n",
    "# Plot sales over time\n",
    "plt.figure(figsize=(14, 6))\n",
    "sns.lineplot(data=df, x='Date', y='Sales')\n",
    "plt.title('Sales Over Time')\n",
    "plt.xlabel('Date')\n",
    "plt.ylabel('Sales')\n",
    "plt.grid(True)\n",
    "plt.tight_layout()\n",
    "plt.show()\n"
   ]
  }
 ],
 "metadata": {
  "language_info": {
   "name": "python"
  }
 },
 "nbformat": 4,
 "nbformat_minor": 5
}
