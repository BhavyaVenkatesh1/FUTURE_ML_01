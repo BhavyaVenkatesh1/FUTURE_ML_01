{
 "cells": [
  {
   "cell_type": "code",
   "execution_count": null,
   "id": "9bbdd9cc",
   "metadata": {
    "vscode": {
     "languageId": "plaintext"
    }
   },
   "outputs": [],
   "source": [
    "import pandas as pd\n",
    "import matplotlib.pyplot as plt\n",
    "import seaborn as sns\n",
    "import numpy as np\n",
    "from sklearn.linear_model import LinearRegression\n",
    "\n",
    "# Load data\n",
    "df = pd.read_csv('../data/train.csv')\n",
    "df['Order Date'] = pd.to_datetime(df['Order Date'])\n",
    "df.rename(columns={'Order Date': 'Date', 'Sales': 'Sales'}, inplace=True)\n",
    "df = df.sort_values('Date')\n",
    "\n",
    "# Aggregate monthly sales\n",
    "df_monthly = df.resample('M', on='Date').sum().reset_index()\n",
    "\n",
    "# Convert dates to numeric for regression\n",
    "df_monthly['Time'] = np.arange(len(df_monthly))\n",
    "\n",
    "# Linear Regression\n",
    "X = df_monthly[['Time']]\n",
    "y = df_monthly['Sales']\n",
    "model = LinearRegression()\n",
    "model.fit(X, y)\n",
    "df_monthly['Trend'] = model.predict(X)\n",
    "\n",
    "# Plot trend\n",
    "plt.figure(figsize=(14, 6))\n",
    "sns.lineplot(x='Date', y='Sales', data=df_monthly, label='Actual Sales')\n",
    "sns.lineplot(x='Date', y='Trend', data=df_monthly, label='Trend (Linear Regression)')\n",
    "plt.title('Sales Trend Using Linear Regression')\n",
    "plt.xlabel('Date')\n",
    "plt.ylabel('Sales')\n",
    "plt.grid(True)\n",
    "plt.legend()\n",
    "plt.tight_layout()\n",
    "plt.show()\n"
   ]
  }
 ],
 "metadata": {
  "language_info": {
   "name": "python"
  }
 },
 "nbformat": 4,
 "nbformat_minor": 5
}
